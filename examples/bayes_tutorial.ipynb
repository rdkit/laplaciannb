{
 "cells": [
  {
   "cell_type": "code",
   "execution_count": 1,
   "id": "ff57e6ba-3c49-45f2-9109-924bd310ac9c",
   "metadata": {},
   "outputs": [],
   "source": [
    "import joblib\n",
    "import pandas as pd"
   ]
  },
  {
   "cell_type": "markdown",
   "id": "61ff9c84",
   "metadata": {},
   "source": [
    "## Package installation from jupyter"
   ]
  },
  {
   "cell_type": "code",
   "execution_count": 3,
   "id": "33b0b7e0",
   "metadata": {},
   "outputs": [
    {
     "name": "stdout",
     "output_type": "stream",
     "text": [
      "Requirement already satisfied: laplaciannb in /usr/local/Caskroom/miniconda/base/envs/bayes/lib/python3.8/site-packages (0.4)\n",
      "Collecting laplaciannb\n",
      "  Using cached laplaciannb-0.4.1-py3-none-any.whl (6.0 kB)\n",
      "Requirement already satisfied: scikit-learn>=1.1.1 in /usr/local/Caskroom/miniconda/base/envs/bayes/lib/python3.8/site-packages (from laplaciannb) (1.1.2)\n",
      "Requirement already satisfied: scipy>=1.8.1 in /usr/local/Caskroom/miniconda/base/envs/bayes/lib/python3.8/site-packages (from laplaciannb) (1.9.0)\n",
      "Requirement already satisfied: pandas>=1.4.2 in /usr/local/Caskroom/miniconda/base/envs/bayes/lib/python3.8/site-packages (from laplaciannb) (1.4.3)\n",
      "Requirement already satisfied: numpy>=1.22.4 in /usr/local/Caskroom/miniconda/base/envs/bayes/lib/python3.8/site-packages (from laplaciannb) (1.23.1)\n",
      "Requirement already satisfied: python-dateutil>=2.8.1 in /usr/local/Caskroom/miniconda/base/envs/bayes/lib/python3.8/site-packages (from pandas>=1.4.2->laplaciannb) (2.8.2)\n",
      "Requirement already satisfied: pytz>=2020.1 in /usr/local/Caskroom/miniconda/base/envs/bayes/lib/python3.8/site-packages (from pandas>=1.4.2->laplaciannb) (2022.1)\n",
      "Requirement already satisfied: threadpoolctl>=2.0.0 in /usr/local/Caskroom/miniconda/base/envs/bayes/lib/python3.8/site-packages (from scikit-learn>=1.1.1->laplaciannb) (3.1.0)\n",
      "Requirement already satisfied: joblib>=1.0.0 in /usr/local/Caskroom/miniconda/base/envs/bayes/lib/python3.8/site-packages (from scikit-learn>=1.1.1->laplaciannb) (1.1.0)\n",
      "Requirement already satisfied: six>=1.5 in /usr/local/Caskroom/miniconda/base/envs/bayes/lib/python3.8/site-packages (from python-dateutil>=2.8.1->pandas>=1.4.2->laplaciannb) (1.16.0)\n",
      "Installing collected packages: laplaciannb\n",
      "  Attempting uninstall: laplaciannb\n",
      "    Found existing installation: laplaciannb 0.4\n",
      "    Uninstalling laplaciannb-0.4:\n",
      "      Successfully uninstalled laplaciannb-0.4\n",
      "Successfully installed laplaciannb-0.4.1\n"
     ]
    }
   ],
   "source": [
    "!pip install laplaciannb --upgrade"
   ]
  },
  {
   "cell_type": "code",
   "execution_count": 4,
   "id": "ad49c226-2ea6-4705-a8c0-295efbda2671",
   "metadata": {},
   "outputs": [],
   "source": [
    "from bayes.LaplacianNB import LaplacianNB"
   ]
  },
  {
   "cell_type": "markdown",
   "id": "97480b54",
   "metadata": {},
   "source": [
    "## Small utility function to process smiles into a set of indices of positive bits"
   ]
  },
  {
   "cell_type": "code",
   "execution_count": 5,
   "id": "627d5672-8ead-4b3c-8224-2186f01ed8ae",
   "metadata": {},
   "outputs": [],
   "source": [
    "from rdkit import Chem\n",
    "from rdkit.Chem import AllChem\n",
    "\n",
    "def get_fp(smiles: str) -> set:\n",
    "    \"\"\"Function to calculate MorganFingerprint from smiles.\n",
    "    It returns index of all '1' bits of not-folded fingerprint.\n",
    "    Args:\n",
    "        smiles (str): smiles string\n",
    "    Returns:\n",
    "        set: return list of index of '1' bits.\n",
    "    \"\"\"\n",
    "\n",
    "    mol = Chem.MolFromSmiles(smiles)\n",
    "\n",
    "    if not mol:\n",
    "        return\n",
    "\n",
    "    fp = AllChem.GetMorganFingerprint(mol, 2)\n",
    "    if not fp:\n",
    "        return\n",
    "\n",
    "    return set(fp.GetNonzeroElements().keys())"
   ]
  },
  {
   "cell_type": "markdown",
   "id": "15d449fb",
   "metadata": {},
   "source": [
    "## Create a example DataFrame"
   ]
  },
  {
   "cell_type": "code",
   "execution_count": 6,
   "id": "85ad8acb-f402-4b4b-8bc1-335f8727ec00",
   "metadata": {},
   "outputs": [],
   "source": [
    "df = pd.DataFrame({'smiles': ['N[C@]([H])(C)C(=O)O', 'O=Cc1ccc(O)c(OC)c1 COc1cc(C=O)ccc1O', 'CN=C=O'], 'activity': [1, 0, 0]})"
   ]
  },
  {
   "cell_type": "code",
   "execution_count": 7,
   "id": "ab597a01-0209-4697-ba3c-b3d36c169879",
   "metadata": {},
   "outputs": [
    {
     "data": {
      "text/html": [
       "<div>\n",
       "<style scoped>\n",
       "    .dataframe tbody tr th:only-of-type {\n",
       "        vertical-align: middle;\n",
       "    }\n",
       "\n",
       "    .dataframe tbody tr th {\n",
       "        vertical-align: top;\n",
       "    }\n",
       "\n",
       "    .dataframe thead th {\n",
       "        text-align: right;\n",
       "    }\n",
       "</style>\n",
       "<table border=\"1\" class=\"dataframe\">\n",
       "  <thead>\n",
       "    <tr style=\"text-align: right;\">\n",
       "      <th></th>\n",
       "      <th>smiles</th>\n",
       "      <th>activity</th>\n",
       "    </tr>\n",
       "  </thead>\n",
       "  <tbody>\n",
       "    <tr>\n",
       "      <th>0</th>\n",
       "      <td>N[C@]([H])(C)C(=O)O</td>\n",
       "      <td>1</td>\n",
       "    </tr>\n",
       "    <tr>\n",
       "      <th>1</th>\n",
       "      <td>O=Cc1ccc(O)c(OC)c1 COc1cc(C=O)ccc1O</td>\n",
       "      <td>0</td>\n",
       "    </tr>\n",
       "    <tr>\n",
       "      <th>2</th>\n",
       "      <td>CN=C=O</td>\n",
       "      <td>0</td>\n",
       "    </tr>\n",
       "  </tbody>\n",
       "</table>\n",
       "</div>"
      ],
      "text/plain": [
       "                                smiles  activity\n",
       "0                  N[C@]([H])(C)C(=O)O         1\n",
       "1  O=Cc1ccc(O)c(OC)c1 COc1cc(C=O)ccc1O         0\n",
       "2                               CN=C=O         0"
      ]
     },
     "execution_count": 7,
     "metadata": {},
     "output_type": "execute_result"
    }
   ],
   "source": [
    "df"
   ]
  },
  {
   "cell_type": "code",
   "execution_count": 8,
   "id": "bf45a3b3-8093-4745-9309-b371a899ccfd",
   "metadata": {},
   "outputs": [],
   "source": [
    "df['sets'] = df['smiles'].apply(lambda x: get_fp(x))"
   ]
  },
  {
   "cell_type": "code",
   "execution_count": 9,
   "id": "d1b4cf52-fb03-48fb-947b-fbc8c7f17c15",
   "metadata": {},
   "outputs": [
    {
     "data": {
      "text/html": [
       "<div>\n",
       "<style scoped>\n",
       "    .dataframe tbody tr th:only-of-type {\n",
       "        vertical-align: middle;\n",
       "    }\n",
       "\n",
       "    .dataframe tbody tr th {\n",
       "        vertical-align: top;\n",
       "    }\n",
       "\n",
       "    .dataframe thead th {\n",
       "        text-align: right;\n",
       "    }\n",
       "</style>\n",
       "<table border=\"1\" class=\"dataframe\">\n",
       "  <thead>\n",
       "    <tr style=\"text-align: right;\">\n",
       "      <th></th>\n",
       "      <th>smiles</th>\n",
       "      <th>activity</th>\n",
       "      <th>sets</th>\n",
       "    </tr>\n",
       "  </thead>\n",
       "  <tbody>\n",
       "    <tr>\n",
       "      <th>0</th>\n",
       "      <td>N[C@]([H])(C)C(=O)O</td>\n",
       "      <td>1</td>\n",
       "      <td>{2245273601, 2246728737, 2655406212, 153386432...</td>\n",
       "    </tr>\n",
       "    <tr>\n",
       "      <th>1</th>\n",
       "      <td>O=Cc1ccc(O)c(OC)c1 COc1cc(C=O)ccc1O</td>\n",
       "      <td>0</td>\n",
       "      <td>{2076190208, 864942730, 2900751504, 2458968089...</td>\n",
       "    </tr>\n",
       "    <tr>\n",
       "      <th>2</th>\n",
       "      <td>CN=C=O</td>\n",
       "      <td>0</td>\n",
       "      <td>{2246728737, 2245900962, 864942730, 3823506351...</td>\n",
       "    </tr>\n",
       "  </tbody>\n",
       "</table>\n",
       "</div>"
      ],
      "text/plain": [
       "                                smiles  activity  \\\n",
       "0                  N[C@]([H])(C)C(=O)O         1   \n",
       "1  O=Cc1ccc(O)c(OC)c1 COc1cc(C=O)ccc1O         0   \n",
       "2                               CN=C=O         0   \n",
       "\n",
       "                                                sets  \n",
       "0  {2245273601, 2246728737, 2655406212, 153386432...  \n",
       "1  {2076190208, 864942730, 2900751504, 2458968089...  \n",
       "2  {2246728737, 2245900962, 864942730, 3823506351...  "
      ]
     },
     "execution_count": 9,
     "metadata": {},
     "output_type": "execute_result"
    }
   ],
   "source": [
    "df"
   ]
  },
  {
   "cell_type": "markdown",
   "id": "4a2b20ee",
   "metadata": {},
   "source": [
    "## Fit function"
   ]
  },
  {
   "cell_type": "code",
   "execution_count": 10,
   "id": "392ac910-c661-4fd2-9240-d5e02a95c0cd",
   "metadata": {},
   "outputs": [],
   "source": [
    "X = df['sets']"
   ]
  },
  {
   "cell_type": "code",
   "execution_count": 11,
   "id": "423550ba-54a5-47ba-a2ec-8f0c52ae96bf",
   "metadata": {},
   "outputs": [],
   "source": [
    "y = df['activity']"
   ]
  },
  {
   "cell_type": "code",
   "execution_count": 12,
   "id": "f9125b8f-39bb-4bb6-889d-8812242360f6",
   "metadata": {},
   "outputs": [],
   "source": [
    "clf = LaplacianNB()"
   ]
  },
  {
   "cell_type": "code",
   "execution_count": 13,
   "id": "4e47c0df-ecc1-415d-aa08-c5f829b72784",
   "metadata": {},
   "outputs": [
    {
     "data": {
      "text/html": [
       "<style>#sk-container-id-1 {color: black;background-color: white;}#sk-container-id-1 pre{padding: 0;}#sk-container-id-1 div.sk-toggleable {background-color: white;}#sk-container-id-1 label.sk-toggleable__label {cursor: pointer;display: block;width: 100%;margin-bottom: 0;padding: 0.3em;box-sizing: border-box;text-align: center;}#sk-container-id-1 label.sk-toggleable__label-arrow:before {content: \"▸\";float: left;margin-right: 0.25em;color: #696969;}#sk-container-id-1 label.sk-toggleable__label-arrow:hover:before {color: black;}#sk-container-id-1 div.sk-estimator:hover label.sk-toggleable__label-arrow:before {color: black;}#sk-container-id-1 div.sk-toggleable__content {max-height: 0;max-width: 0;overflow: hidden;text-align: left;background-color: #f0f8ff;}#sk-container-id-1 div.sk-toggleable__content pre {margin: 0.2em;color: black;border-radius: 0.25em;background-color: #f0f8ff;}#sk-container-id-1 input.sk-toggleable__control:checked~div.sk-toggleable__content {max-height: 200px;max-width: 100%;overflow: auto;}#sk-container-id-1 input.sk-toggleable__control:checked~label.sk-toggleable__label-arrow:before {content: \"▾\";}#sk-container-id-1 div.sk-estimator input.sk-toggleable__control:checked~label.sk-toggleable__label {background-color: #d4ebff;}#sk-container-id-1 div.sk-label input.sk-toggleable__control:checked~label.sk-toggleable__label {background-color: #d4ebff;}#sk-container-id-1 input.sk-hidden--visually {border: 0;clip: rect(1px 1px 1px 1px);clip: rect(1px, 1px, 1px, 1px);height: 1px;margin: -1px;overflow: hidden;padding: 0;position: absolute;width: 1px;}#sk-container-id-1 div.sk-estimator {font-family: monospace;background-color: #f0f8ff;border: 1px dotted black;border-radius: 0.25em;box-sizing: border-box;margin-bottom: 0.5em;}#sk-container-id-1 div.sk-estimator:hover {background-color: #d4ebff;}#sk-container-id-1 div.sk-parallel-item::after {content: \"\";width: 100%;border-bottom: 1px solid gray;flex-grow: 1;}#sk-container-id-1 div.sk-label:hover label.sk-toggleable__label {background-color: #d4ebff;}#sk-container-id-1 div.sk-serial::before {content: \"\";position: absolute;border-left: 1px solid gray;box-sizing: border-box;top: 0;bottom: 0;left: 50%;z-index: 0;}#sk-container-id-1 div.sk-serial {display: flex;flex-direction: column;align-items: center;background-color: white;padding-right: 0.2em;padding-left: 0.2em;position: relative;}#sk-container-id-1 div.sk-item {position: relative;z-index: 1;}#sk-container-id-1 div.sk-parallel {display: flex;align-items: stretch;justify-content: center;background-color: white;position: relative;}#sk-container-id-1 div.sk-item::before, #sk-container-id-1 div.sk-parallel-item::before {content: \"\";position: absolute;border-left: 1px solid gray;box-sizing: border-box;top: 0;bottom: 0;left: 50%;z-index: -1;}#sk-container-id-1 div.sk-parallel-item {display: flex;flex-direction: column;z-index: 1;position: relative;background-color: white;}#sk-container-id-1 div.sk-parallel-item:first-child::after {align-self: flex-end;width: 50%;}#sk-container-id-1 div.sk-parallel-item:last-child::after {align-self: flex-start;width: 50%;}#sk-container-id-1 div.sk-parallel-item:only-child::after {width: 0;}#sk-container-id-1 div.sk-dashed-wrapped {border: 1px dashed gray;margin: 0 0.4em 0.5em 0.4em;box-sizing: border-box;padding-bottom: 0.4em;background-color: white;}#sk-container-id-1 div.sk-label label {font-family: monospace;font-weight: bold;display: inline-block;line-height: 1.2em;}#sk-container-id-1 div.sk-label-container {text-align: center;}#sk-container-id-1 div.sk-container {/* jupyter's `normalize.less` sets `[hidden] { display: none; }` but bootstrap.min.css set `[hidden] { display: none !important; }` so we also need the `!important` here to be able to override the default hidden behavior on the sphinx rendered scikit-learn.org. See: https://github.com/scikit-learn/scikit-learn/issues/21755 */display: inline-block !important;position: relative;}#sk-container-id-1 div.sk-text-repr-fallback {display: none;}</style><div id=\"sk-container-id-1\" class=\"sk-top-container\"><div class=\"sk-text-repr-fallback\"><pre>LaplacianNB()</pre><b>In a Jupyter environment, please rerun this cell to show the HTML representation or trust the notebook. <br />On GitHub, the HTML representation is unable to render, please try loading this page with nbviewer.org.</b></div><div class=\"sk-container\" hidden><div class=\"sk-item\"><div class=\"sk-estimator sk-toggleable\"><input class=\"sk-toggleable__control sk-hidden--visually\" id=\"sk-estimator-id-1\" type=\"checkbox\" checked><label for=\"sk-estimator-id-1\" class=\"sk-toggleable__label sk-toggleable__label-arrow\">LaplacianNB</label><div class=\"sk-toggleable__content\"><pre>LaplacianNB()</pre></div></div></div></div></div>"
      ],
      "text/plain": [
       "LaplacianNB()"
      ]
     },
     "execution_count": 13,
     "metadata": {},
     "output_type": "execute_result"
    }
   ],
   "source": [
    "clf.fit(X, y)"
   ]
  },
  {
   "cell_type": "markdown",
   "id": "bc1d718e",
   "metadata": {},
   "source": [
    "## Get a sum of features probabilities for each compound per class [0, 1]"
   ]
  },
  {
   "cell_type": "code",
   "execution_count": 14,
   "id": "5f5b2e0f-3c62-4c4b-b7d4-73cd475fc32c",
   "metadata": {},
   "outputs": [
    {
     "data": {
      "text/plain": [
       "array([[-5.7550254,  4.920233 ],\n",
       "       [ 2.962594 , -4.941602 ],\n",
       "       [ 0.9315465, -1.5314839]], dtype=float32)"
      ]
     },
     "execution_count": 14,
     "metadata": {},
     "output_type": "execute_result"
    }
   ],
   "source": [
    "clf._joint_log_likelihood(X)"
   ]
  },
  {
   "cell_type": "markdown",
   "id": "0c28d444",
   "metadata": {},
   "source": [
    "## Get probability of each class (sklearn implementation)"
   ]
  },
  {
   "cell_type": "code",
   "execution_count": 15,
   "id": "b1fce5dd-19b5-4a54-8b1d-fe005071a6c4",
   "metadata": {},
   "outputs": [
    {
     "data": {
      "text/plain": [
       "array([[2.3109160e-05, 9.9997705e-01],\n",
       "       [9.9963105e-01, 3.6905482e-04],\n",
       "       [9.2150915e-01, 7.8490861e-02]], dtype=float32)"
      ]
     },
     "execution_count": 15,
     "metadata": {},
     "output_type": "execute_result"
    }
   ],
   "source": [
    "clf.predict_proba(X)"
   ]
  },
  {
   "cell_type": "markdown",
   "id": "aa9fa949",
   "metadata": {},
   "source": [
    "## Get prediction of each class (sklearn implementation)"
   ]
  },
  {
   "cell_type": "code",
   "execution_count": 16,
   "id": "236cebeb-2e81-449a-babf-27b9665e726e",
   "metadata": {},
   "outputs": [
    {
     "data": {
      "text/plain": [
       "array([1, 0, 0])"
      ]
     },
     "execution_count": 16,
     "metadata": {},
     "output_type": "execute_result"
    }
   ],
   "source": [
    "clf.predict(X)"
   ]
  },
  {
   "cell_type": "markdown",
   "id": "16b18d5e",
   "metadata": {},
   "source": [
    "## Get class names"
   ]
  },
  {
   "cell_type": "code",
   "execution_count": 17,
   "id": "06d46914",
   "metadata": {},
   "outputs": [
    {
     "data": {
      "text/plain": [
       "array([0, 1])"
      ]
     },
     "execution_count": 17,
     "metadata": {},
     "output_type": "execute_result"
    }
   ],
   "source": [
    "clf.classes_"
   ]
  },
  {
   "cell_type": "markdown",
   "id": "32af4468",
   "metadata": {},
   "source": [
    "## Get index of positive bit mapping to feature space -> key: value of an index, value: index in feature table (see below)"
   ]
  },
  {
   "cell_type": "code",
   "execution_count": 18,
   "id": "9498b13d",
   "metadata": {},
   "outputs": [
    {
     "data": {
      "text/plain": [
       "{26234434: 0,\n",
       " 847336149: 1,\n",
       " 847957139: 2,\n",
       " 864662311: 3,\n",
       " 864674487: 4,\n",
       " 864942730: 5,\n",
       " 932712697: 6,\n",
       " 951226070: 7,\n",
       " 976134192: 8,\n",
       " 994485099: 9,\n",
       " 1135286194: 10,\n",
       " 1310068516: 11,\n",
       " 1510328189: 12,\n",
       " 1510337516: 13,\n",
       " 1516788326: 14,\n",
       " 1517923320: 15,\n",
       " 1533864325: 16,\n",
       " 1879233475: 17,\n",
       " 2038990649: 18,\n",
       " 2076190208: 19,\n",
       " 2245273601: 20,\n",
       " 2245900962: 21,\n",
       " 2246699815: 22,\n",
       " 2246703798: 23,\n",
       " 2246728737: 24,\n",
       " 2458968089: 25,\n",
       " 2549196227: 26,\n",
       " 2599973650: 27,\n",
       " 2625182169: 28,\n",
       " 2655406212: 29,\n",
       " 2900751504: 30,\n",
       " 3011598321: 31,\n",
       " 3026394695: 32,\n",
       " 3217380708: 33,\n",
       " 3218693969: 34,\n",
       " 3537119515: 35,\n",
       " 3725073659: 36,\n",
       " 3823506351: 37,\n",
       " 3855312692: 38,\n",
       " 3945128999: 39,\n",
       " 3975275337: 40,\n",
       " 4046184955: 41}"
      ]
     },
     "execution_count": 18,
     "metadata": {},
     "output_type": "execute_result"
    }
   ],
   "source": [
    "clf.feature_names_"
   ]
  },
  {
   "cell_type": "markdown",
   "id": "2c039b62",
   "metadata": {},
   "source": [
    "## Get log probability per feature/index"
   ]
  },
  {
   "cell_type": "code",
   "execution_count": 19,
   "id": "464e8dde",
   "metadata": {},
   "outputs": [
    {
     "data": {
      "text/plain": [
       "array([[ 0.14884563,  0.14884563, -0.54430157, -0.20163734,  0.14884563,\n",
       "        -0.05518642,  0.14884563,  0.14884563,  0.14884563,  0.14884563,\n",
       "         0.14884563,  0.14884563, -0.54430157,  0.14884563,  0.14884563,\n",
       "         0.14884563, -0.54430157,  0.14884563,  0.14884563,  0.14884563,\n",
       "        -0.54430157,  0.14884563, -0.54430157,  0.14884563, -0.05518642,\n",
       "         0.14884563,  0.14884563, -0.54430157, -0.54430157, -0.54430157,\n",
       "         0.14884563,  0.14884563,  0.14884563,  0.14884563,  0.14884563,\n",
       "        -0.54430157,  0.14884563,  0.14884563, -0.54430157,  0.14884563,\n",
       "         0.14884563,  0.14884563],\n",
       "       [-0.24419697, -0.24419697,  0.44895023,  0.25283533, -0.24419697,\n",
       "         0.08894748, -0.24419697, -0.24419697, -0.24419697, -0.24419697,\n",
       "        -0.24419697, -0.24419697,  0.44895023, -0.24419697, -0.24419697,\n",
       "        -0.24419697,  0.44895023, -0.24419697, -0.24419697, -0.24419697,\n",
       "         0.44895023, -0.24419697,  0.44895023, -0.24419697,  0.08894748,\n",
       "        -0.24419697, -0.24419697,  0.44895023,  0.44895023,  0.44895023,\n",
       "        -0.24419697, -0.24419697, -0.24419697, -0.24419697, -0.24419697,\n",
       "         0.44895023, -0.24419697, -0.24419697,  0.44895023, -0.24419697,\n",
       "        -0.24419697, -0.24419697]], dtype=float32)"
      ]
     },
     "execution_count": 19,
     "metadata": {},
     "output_type": "execute_result"
    }
   ],
   "source": [
    "clf.feature_log_prob_"
   ]
  },
  {
   "cell_type": "markdown",
   "id": "a8c6f20a",
   "metadata": {},
   "source": []
  }
 ],
 "metadata": {
  "interpreter": {
   "hash": "e3ea7e51d5992a23cdc13495344443e54d796a5f0866af5607e4e469c3900679"
  },
  "kernelspec": {
   "display_name": "Python 3.8.13 ('base')",
   "language": "python",
   "name": "python3"
  },
  "language_info": {
   "codemirror_mode": {
    "name": "ipython",
    "version": 3
   },
   "file_extension": ".py",
   "mimetype": "text/x-python",
   "name": "python",
   "nbconvert_exporter": "python",
   "pygments_lexer": "ipython3",
   "version": "3.8.13"
  }
 },
 "nbformat": 4,
 "nbformat_minor": 5
}
